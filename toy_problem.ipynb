{
 "cells": [
  {
   "cell_type": "code",
   "execution_count": 12,
   "metadata": {},
   "outputs": [],
   "source": [
    "import random\n",
    "import sympy as sp\n",
    "import numpy as np\n",
    "\n",
    "def generate_random_equation(n):\n",
    "    \n",
    "    # Create n symbolic variables x1, x2, ..., xn\n",
    "    variables = sp.symbols(f'x1:{n+1}')\n",
    "    \n",
    "    # Define possible operations\n",
    "    operations = ['+', '-', '*', '/', '**', 'sin', 'cos', 'exp', 'log']\n",
    "    \n",
    "    # Start building the equation\n",
    "    equation = 0\n",
    "    \n",
    "    # Randomly combine variables with operations\n",
    "    for _ in range(random.randint(3, 7)):  # Random number of terms in the equation\n",
    "        var = random.choice(variables)\n",
    "        op = random.choice(operations)\n",
    "        \n",
    "        if op in ['+', '-', '*']:\n",
    "            coeff = random.uniform(-5, 5)\n",
    "            equation += coeff * var\n",
    "        elif op == '/':\n",
    "            # Add a small constant to avoid division by zero\n",
    "            coeff = random.uniform(-5, 5)\n",
    "            equation += coeff / (var + random.uniform(0.1, 1))\n",
    "        elif op == '**':\n",
    "            power = random.randint(2, 3)\n",
    "            equation += var**power\n",
    "        elif op in ['sin', 'cos', 'exp', 'log']:\n",
    "            if op == 'log':  # Avoid log of negative or zero\n",
    "                equation += sp.log(var + random.uniform(1, 5))\n",
    "            else:\n",
    "                func = getattr(sp, op)\n",
    "                equation += func(var)\n",
    "    \n",
    "    # Convert to a Python function\n",
    "    equation_func = sp.lambdify(variables, equation, modules='numpy')\n",
    "    \n",
    "    return equation, equation_func\n"
   ]
  },
  {
   "cell_type": "code",
   "execution_count": 13,
   "metadata": {},
   "outputs": [
    {
     "name": "stdout",
     "output_type": "stream",
     "text": [
      "3.02403083333109*x2 + 1.25296351209517/(x2 + 0.640056717696965) + 3.30686581893074/(x1 + 0.217192907502294)\n",
      "<function _lambdifygenerated at 0x000001D9DF8E8CC0>\n"
     ]
    }
   ],
   "source": [
    "n = 3\n",
    "equation, equation_func = generate_random_equation(n)\n",
    "\n",
    "\n",
    "print(equation)\n",
    "print(equation_func)\n"
   ]
  }
 ],
 "metadata": {
  "kernelspec": {
   "display_name": "Python 3",
   "language": "python",
   "name": "python3"
  },
  "language_info": {
   "codemirror_mode": {
    "name": "ipython",
    "version": 3
   },
   "file_extension": ".py",
   "mimetype": "text/x-python",
   "name": "python",
   "nbconvert_exporter": "python",
   "pygments_lexer": "ipython3",
   "version": "3.12.7"
  }
 },
 "nbformat": 4,
 "nbformat_minor": 2
}
