{
 "cells": [
  {
   "cell_type": "code",
   "execution_count": 3,
   "metadata": {},
   "outputs": [
    {
     "name": "stdout",
     "output_type": "stream",
     "text": [
      "(100, 15)\n",
      "(100,)\n"
     ]
    }
   ],
   "source": [
    "import numpy as np\n",
    "\n",
    "def generate_toy_problem(n_effective, m_redundant, n_samples, noise_std=0.1):\n",
    "    X_effective = np.random.uniform(-1, 1, size=(n_samples, n_effective))\n",
    "    \n",
    "    a = np.random.uniform(-1, 1, size=n_effective)  # Quadratic coefficients\n",
    "    b = np.random.uniform(-1, 1, size=n_effective)  # Linear coefficients\n",
    "    c = np.random.uniform(-1, 1)  # Constant offset\n",
    "    \n",
    "    # Define the polynomial relationship for y\n",
    "    y = (\n",
    "        np.sum(a * X_effective**2, axis=1) +\n",
    "        np.sum(b * X_effective, axis=1) +\n",
    "        c +\n",
    "        np.random.normal(0, noise_std, size=n_samples)\n",
    "    )\n",
    "    X_redundant = np.random.uniform(-1, 1, size=(n_samples, m_redundant))\n",
    "    \n",
    "    X = np.hstack([X_effective, X_redundant])\n",
    "    return X, y\n",
    "\n",
    "# Example: 5 effective dimensions, 10 redundant dimensions, 100 samples\n",
    "X, y = generate_toy_problem(5, 10, 100)\n",
    "\n",
    "print(X.shape)\n",
    "print(y.shape)"
   ]
  }
 ],
 "metadata": {
  "kernelspec": {
   "display_name": "Python 3",
   "language": "python",
   "name": "python3"
  },
  "language_info": {
   "codemirror_mode": {
    "name": "ipython",
    "version": 3
   },
   "file_extension": ".py",
   "mimetype": "text/x-python",
   "name": "python",
   "nbconvert_exporter": "python",
   "pygments_lexer": "ipython3",
   "version": "3.12.7"
  }
 },
 "nbformat": 4,
 "nbformat_minor": 2
}
